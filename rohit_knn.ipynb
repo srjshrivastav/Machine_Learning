{
 "cells": [
  {
   "cell_type": "code",
   "execution_count": 1,
   "metadata": {},
   "outputs": [],
   "source": [
    "#implement K nearest neighbour algorithm\n",
    "#implemen naive bayes classifier for a given dataset"
   ]
  },
  {
   "cell_type": "code",
   "execution_count": 2,
   "metadata": {},
   "outputs": [],
   "source": [
    "import numpy as np\n",
    "import pandas as pd\n",
    "import math"
   ]
  },
  {
   "cell_type": "code",
   "execution_count": 3,
   "metadata": {},
   "outputs": [
    {
     "data": {
      "text/plain": [
       "array([['france', 'A', 44.0, 72000.0],\n",
       "       ['spain', 'B', 27.0, 48000.0],\n",
       "       ['germany', 'B', 30.0, 54000.0],\n",
       "       ['spain', 'A', 38.0, 61000.0],\n",
       "       ['germany', 'C', 40.0, nan],\n",
       "       ['france', 'C', 35.0, 58000.0],\n",
       "       ['spain', 'B', nan, 52000.0],\n",
       "       ['france', 'A', 48.0, 79000.0],\n",
       "       ['germany', 'C', 50.0, 83000.0],\n",
       "       ['france', 'B', 37.0, 67000.0]], dtype=object)"
      ]
     },
     "execution_count": 3,
     "metadata": {},
     "output_type": "execute_result"
    }
   ],
   "source": [
    "data=pd.read_csv('datase.csv')\n",
    "x=data.iloc[:,:-1].values\n",
    "x"
   ]
  },
  {
   "cell_type": "code",
   "execution_count": 4,
   "metadata": {},
   "outputs": [
    {
     "name": "stdout",
     "output_type": "stream",
     "text": [
      "['no' 'yes' 'no' 'no' 'yes' 'yes' 'no' 'yes' 'no' 'yes']\n"
     ]
    }
   ],
   "source": [
    "y=data.iloc[:,4].values\n",
    "print(y)"
   ]
  },
  {
   "cell_type": "code",
   "execution_count": 5,
   "metadata": {},
   "outputs": [
    {
     "name": "stderr",
     "output_type": "stream",
     "text": [
      "C:\\ProgramData\\Anaconda3\\lib\\site-packages\\sklearn\\utils\\deprecation.py:66: DeprecationWarning: Class Imputer is deprecated; Imputer was deprecated in version 0.20 and will be removed in 0.22. Import impute.SimpleImputer from sklearn instead.\n",
      "  warnings.warn(msg, category=DeprecationWarning)\n"
     ]
    },
    {
     "data": {
      "text/plain": [
       "array([['france', 'A', 44.0, 72000.0],\n",
       "       ['spain', 'B', 27.0, 48000.0],\n",
       "       ['germany', 'B', 30.0, 54000.0],\n",
       "       ['spain', 'A', 38.0, 61000.0],\n",
       "       ['germany', 'C', 40.0, 63777.77777777778],\n",
       "       ['france', 'C', 35.0, 58000.0],\n",
       "       ['spain', 'B', 38.77777777777778, 52000.0],\n",
       "       ['france', 'A', 48.0, 79000.0],\n",
       "       ['germany', 'C', 50.0, 83000.0],\n",
       "       ['france', 'B', 37.0, 67000.0]], dtype=object)"
      ]
     },
     "execution_count": 5,
     "metadata": {},
     "output_type": "execute_result"
    }
   ],
   "source": [
    "from sklearn.preprocessing import Imputer\n",
    "imputer=Imputer(missing_values='NaN',strategy='mean',axis=0)\n",
    "imputer=imputer.fit(x[:,2:4])\n",
    "x[:,2:4]=imputer.transform(x[:,2:4])\n",
    "x"
   ]
  },
  {
   "cell_type": "code",
   "execution_count": 6,
   "metadata": {},
   "outputs": [
    {
     "name": "stdout",
     "output_type": "stream",
     "text": [
      "enter K:7\n",
      "Enter age and salary:30 54000\n"
     ]
    }
   ],
   "source": [
    "k=int(input(\"enter K:\"))\n",
    "a,s=map(int,input(\"Enter age and salary:\").split())\n",
    "age=[]\n",
    "salary=[]"
   ]
  },
  {
   "cell_type": "code",
   "execution_count": 7,
   "metadata": {},
   "outputs": [],
   "source": [
    "age=x[:,2]\n",
    "sal=x[:,3]\n"
   ]
  },
  {
   "cell_type": "code",
   "execution_count": 8,
   "metadata": {},
   "outputs": [
    {
     "data": {
      "text/plain": [
       "array([44.0, 27.0, 30.0, 38.0, 40.0, 35.0, 38.77777777777778, 48.0, 50.0,\n",
       "       37.0], dtype=object)"
      ]
     },
     "execution_count": 8,
     "metadata": {},
     "output_type": "execute_result"
    }
   ],
   "source": [
    "age\n"
   ]
  },
  {
   "cell_type": "code",
   "execution_count": 9,
   "metadata": {},
   "outputs": [
    {
     "data": {
      "text/plain": [
       "array([72000.0, 48000.0, 54000.0, 61000.0, 63777.77777777778, 58000.0,\n",
       "       52000.0, 79000.0, 83000.0, 67000.0], dtype=object)"
      ]
     },
     "execution_count": 9,
     "metadata": {},
     "output_type": "execute_result"
    }
   ],
   "source": [
    "sal"
   ]
  },
  {
   "cell_type": "code",
   "execution_count": 10,
   "metadata": {},
   "outputs": [],
   "source": [
    "dic={}\n",
    "for i in range(10):\n",
    "    d=(math.sqrt((age[i]-a)**2+(sal[i]-s)**2))\n",
    "    dic[d]=y[i]\n",
    "    "
   ]
  },
  {
   "cell_type": "code",
   "execution_count": 11,
   "metadata": {},
   "outputs": [
    {
     "data": {
      "text/plain": [
       "{18000.00544444362: 'no',\n",
       " 6000.000749999953: 'yes',\n",
       " 0.0: 'no',\n",
       " 7000.004571427079: 'no',\n",
       " 9777.782891412808: 'yes',\n",
       " 4000.003124998779: 'yes',\n",
       " 2000.0192622529205: 'no',\n",
       " 25000.00647999916: 'yes',\n",
       " 29000.006896550905: 'no',\n",
       " 13000.001884615249: 'yes'}"
      ]
     },
     "execution_count": 11,
     "metadata": {},
     "output_type": "execute_result"
    }
   ],
   "source": [
    "dic"
   ]
  },
  {
   "cell_type": "code",
   "execution_count": 14,
   "metadata": {},
   "outputs": [
    {
     "data": {
      "text/plain": [
       "{0.0: 'no',\n",
       " 2000.0192622529205: 'no',\n",
       " 4000.003124998779: 'yes',\n",
       " 6000.000749999953: 'yes',\n",
       " 7000.004571427079: 'no',\n",
       " 9777.782891412808: 'yes',\n",
       " 13000.001884615249: 'yes',\n",
       " 18000.00544444362: 'no',\n",
       " 25000.00647999916: 'yes',\n",
       " 29000.006896550905: 'no'}"
      ]
     },
     "execution_count": 14,
     "metadata": {},
     "output_type": "execute_result"
    }
   ],
   "source": [
    "dic = {r: v for r, v in sorted(dic.items(), key=lambda item: item[0])}\n",
    "dic"
   ]
  },
  {
   "cell_type": "code",
   "execution_count": 15,
   "metadata": {},
   "outputs": [
    {
     "name": "stdout",
     "output_type": "stream",
     "text": [
      "YES\n"
     ]
    }
   ],
   "source": [
    "lst = [i for i in dic.values()]\n",
    "if(lst[:k].count('yes')>lst[:k].count('no')):\n",
    "    print('YES')\n",
    "else:\n",
    "    print(\"NO\")"
   ]
  },
  {
   "cell_type": "code",
   "execution_count": null,
   "metadata": {},
   "outputs": [],
   "source": []
  }
 ],
 "metadata": {
  "kernelspec": {
   "display_name": "Python 3",
   "language": "python",
   "name": "python3"
  },
  "language_info": {
   "codemirror_mode": {
    "name": "ipython",
    "version": 3
   },
   "file_extension": ".py",
   "mimetype": "text/x-python",
   "name": "python",
   "nbconvert_exporter": "python",
   "pygments_lexer": "ipython3",
   "version": "3.7.4"
  }
 },
 "nbformat": 4,
 "nbformat_minor": 2
}
