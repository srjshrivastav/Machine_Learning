{
 "cells": [
  {
   "cell_type": "code",
   "execution_count": 1,
   "metadata": {},
   "outputs": [],
   "source": [
    "from sklearn.datasets import load_iris\n",
    "import matplotlib.pyplot as plt\n",
    "from sklearn.metrics import accuracy_score\n",
    "import numpy as np\n",
    "iris=load_iris()"
   ]
  },
  {
   "cell_type": "code",
   "execution_count": 2,
   "metadata": {},
   "outputs": [],
   "source": [
    "#data with attrib\n",
    "features=iris.data"
   ]
  },
  {
   "cell_type": "code",
   "execution_count": 3,
   "metadata": {},
   "outputs": [],
   "source": [
    "#extracting label as per features\n",
    "label=iris.target"
   ]
  },
  {
   "cell_type": "code",
   "execution_count": 4,
   "metadata": {},
   "outputs": [],
   "source": [
    "#separatining data\n",
    "from sklearn.model_selection import train_test_split\n",
    "train_data,test_data,train_label,test_label=train_test_split(features,label,test_size=0.1)"
   ]
  },
  {
   "cell_type": "code",
   "execution_count": 5,
   "metadata": {},
   "outputs": [],
   "source": [
    "#Importing knn classifier\n",
    "from sklearn.neighbors import KNeighborsClassifier\n",
    "from sklearn.tree import DecisionTreeClassifier\n",
    "A_Score_knn=[]\n",
    "A_Score_dtc=[]\n",
    "K_value=[]\n",
    "for i in range(2,50,5):\n",
    "    knn=KNeighborsClassifier(n_neighbors=i)\n",
    "    K_value.append(i)\n",
    "    trained=knn.fit(train_data,train_label)\n",
    "    prediction=knn.predict(test_data)\n",
    "    A_Score_knn.append(accuracy_score(test_label,prediction)*100)\n",
    "    dtcl=DecisionTreeClassifier()\n",
    "    dtrained=dtcl.fit(train_data,train_label)\n",
    "    pred=dtcl.predict(test_data)\n",
    "    A_Score_dtc.append(accuracy_score(pred,test_label)*100) "
   ]
  },
  {
   "cell_type": "code",
   "execution_count": 6,
   "metadata": {},
   "outputs": [
    {
     "data": {
      "image/png": "[encoded data removed]",
      "text/plain": [
       "<Figure size 1080x720 with 1 Axes>"
      ]
     },
     "metadata": {
      "needs_background": "light"
     },
     "output_type": "display_data"
    }
   ],
   "source": [
    "#Plotting Graph\n",
    "fig=plt.figure(figsize=(15,10))\n",
    "ax=fig.add_subplot(111)\n",
    "ind=np.arange(10)\n",
    "width=0.3\n",
    "ax.bar(ind,A_Score_dtc,width,color='Red',label=\"DecisionTreeClassifier\")\n",
    "ax.bar(ind+width,A_Score_knn,width,color='darkblue',label=\"KNeighborsClassifier\")\n",
    "plt.legend(loc=1)\n",
    "plt.title(\"DecisionTreeClassifier and KNeighborsClassifier\")\n",
    "ax.set_xticks(ind+width-0.15)\n",
    "ax.set_xticklabels(K_value)\n",
    "plt.show()"
   ]
  },
  {
   "cell_type": "code",
   "execution_count": null,
   "metadata": {},
   "outputs": [],
   "source": [
    "\n"
   ]
  },
  {
   "cell_type": "code",
   "execution_count": null,
   "metadata": {},
   "outputs": [],
   "source": []
  },
  {
   "cell_type": "code",
   "execution_count": null,
   "metadata": {},
   "outputs": [],
   "source": []
  },
  {
   "cell_type": "code",
   "execution_count": null,
   "metadata": {},
   "outputs": [],
   "source": []
  }
 ],
 "metadata": {
  "kernelspec": {
   "display_name": "Python 3",
   "language": "python",
   "name": "python3"
  },
  "language_info": {
   "codemirror_mode": {
    "name": "ipython",
    "version": 3
   },
   "file_extension": ".py",
   "mimetype": "text/x-python",
   "name": "python",
   "nbconvert_exporter": "python",
   "pygments_lexer": "ipython3",
   "version": "3.6.6"
  }
 },
 "nbformat": 4,
 "nbformat_minor": 2
}
