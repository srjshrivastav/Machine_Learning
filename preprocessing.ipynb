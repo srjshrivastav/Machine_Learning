{
 "cells": [
  {
   "cell_type": "code",
   "execution_count": 1,
   "metadata": {},
   "outputs": [],
   "source": [
    "import numpy as np"
   ]
  },
  {
   "cell_type": "code",
   "execution_count": 2,
   "metadata": {},
   "outputs": [],
   "source": [
    "import pandas as pd"
   ]
  },
  {
   "cell_type": "code",
   "execution_count": 3,
   "metadata": {},
   "outputs": [],
   "source": [
    "data=pd.read_csv(\"preprocessing.csv\")"
   ]
  },
  {
   "cell_type": "code",
   "execution_count": 4,
   "metadata": {},
   "outputs": [
    {
     "data": {
      "text/html": [
       "<div>\n",
       "<style scoped>\n",
       "    .dataframe tbody tr th:only-of-type {\n",
       "        vertical-align: middle;\n",
       "    }\n",
       "\n",
       "    .dataframe tbody tr th {\n",
       "        vertical-align: top;\n",
       "    }\n",
       "\n",
       "    .dataframe thead th {\n",
       "        text-align: right;\n",
       "    }\n",
       "</style>\n",
       "<table border=\"1\" class=\"dataframe\">\n",
       "  <thead>\n",
       "    <tr style=\"text-align: right;\">\n",
       "      <th></th>\n",
       "      <th>Country</th>\n",
       "      <th>State</th>\n",
       "      <th>Age</th>\n",
       "      <th>Salary</th>\n",
       "      <th>Purchased</th>\n",
       "    </tr>\n",
       "  </thead>\n",
       "  <tbody>\n",
       "    <tr>\n",
       "      <td>0</td>\n",
       "      <td>france</td>\n",
       "      <td>A</td>\n",
       "      <td>44.0</td>\n",
       "      <td>72000.0</td>\n",
       "      <td>no</td>\n",
       "    </tr>\n",
       "    <tr>\n",
       "      <td>1</td>\n",
       "      <td>spain</td>\n",
       "      <td>B</td>\n",
       "      <td>27.0</td>\n",
       "      <td>48000.0</td>\n",
       "      <td>yes</td>\n",
       "    </tr>\n",
       "    <tr>\n",
       "      <td>2</td>\n",
       "      <td>germany</td>\n",
       "      <td>B</td>\n",
       "      <td>30.0</td>\n",
       "      <td>54000.0</td>\n",
       "      <td>no</td>\n",
       "    </tr>\n",
       "    <tr>\n",
       "      <td>3</td>\n",
       "      <td>spain</td>\n",
       "      <td>A</td>\n",
       "      <td>38.0</td>\n",
       "      <td>61000.0</td>\n",
       "      <td>no</td>\n",
       "    </tr>\n",
       "    <tr>\n",
       "      <td>4</td>\n",
       "      <td>germany</td>\n",
       "      <td>C</td>\n",
       "      <td>40.0</td>\n",
       "      <td>NaN</td>\n",
       "      <td>yes</td>\n",
       "    </tr>\n",
       "    <tr>\n",
       "      <td>5</td>\n",
       "      <td>france</td>\n",
       "      <td>C</td>\n",
       "      <td>35.0</td>\n",
       "      <td>58000.0</td>\n",
       "      <td>yes</td>\n",
       "    </tr>\n",
       "    <tr>\n",
       "      <td>6</td>\n",
       "      <td>spain</td>\n",
       "      <td>B</td>\n",
       "      <td>NaN</td>\n",
       "      <td>52000.0</td>\n",
       "      <td>no</td>\n",
       "    </tr>\n",
       "    <tr>\n",
       "      <td>7</td>\n",
       "      <td>france</td>\n",
       "      <td>A</td>\n",
       "      <td>48.0</td>\n",
       "      <td>79000.0</td>\n",
       "      <td>yes</td>\n",
       "    </tr>\n",
       "    <tr>\n",
       "      <td>8</td>\n",
       "      <td>germany</td>\n",
       "      <td>C</td>\n",
       "      <td>50.0</td>\n",
       "      <td>83000.0</td>\n",
       "      <td>no</td>\n",
       "    </tr>\n",
       "    <tr>\n",
       "      <td>9</td>\n",
       "      <td>france</td>\n",
       "      <td>B</td>\n",
       "      <td>37.0</td>\n",
       "      <td>67000.0</td>\n",
       "      <td>yes</td>\n",
       "    </tr>\n",
       "  </tbody>\n",
       "</table>\n",
       "</div>"
      ],
      "text/plain": [
       "   Country State   Age   Salary Purchased\n",
       "0   france     A  44.0  72000.0        no\n",
       "1    spain     B  27.0  48000.0       yes\n",
       "2  germany     B  30.0  54000.0        no\n",
       "3    spain     A  38.0  61000.0        no\n",
       "4  germany     C  40.0      NaN       yes\n",
       "5   france     C  35.0  58000.0       yes\n",
       "6    spain     B   NaN  52000.0        no\n",
       "7   france     A  48.0  79000.0       yes\n",
       "8  germany     C  50.0  83000.0        no\n",
       "9   france     B  37.0  67000.0       yes"
      ]
     },
     "execution_count": 4,
     "metadata": {},
     "output_type": "execute_result"
    }
   ],
   "source": [
    "data"
   ]
  },
  {
   "cell_type": "code",
   "execution_count": 6,
   "metadata": {},
   "outputs": [],
   "source": [
    "x=data.iloc[:,:-1].values"
   ]
  },
  {
   "cell_type": "code",
   "execution_count": 7,
   "metadata": {},
   "outputs": [],
   "source": [
    "y=data.iloc[:,-1].values"
   ]
  },
  {
   "cell_type": "code",
   "execution_count": 11,
   "metadata": {},
   "outputs": [],
   "source": [
    "from sklearn.preprocessing import Imputer "
   ]
  },
  {
   "cell_type": "code",
   "execution_count": 13,
   "metadata": {},
   "outputs": [],
   "source": [
    "imputer=Imputer(missing_values=\"NaN\",strategy='mean',axis=0)\n",
    "imputer=imputer.fit(x[:,2:4])"
   ]
  },
  {
   "cell_type": "code",
   "execution_count": 14,
   "metadata": {},
   "outputs": [],
   "source": [
    "x[:,2:4]=imputer.transform(x[:,2:4])"
   ]
  },
  {
   "cell_type": "code",
   "execution_count": 15,
   "metadata": {},
   "outputs": [
    {
     "data": {
      "text/plain": [
       "array([['france', 'A', 44.0, 72000.0],\n",
       "       ['spain', 'B', 27.0, 48000.0],\n",
       "       ['germany', 'B', 30.0, 54000.0],\n",
       "       ['spain', 'A', 38.0, 61000.0],\n",
       "       ['germany', 'C', 40.0, 63777.77777777778],\n",
       "       ['france', 'C', 35.0, 58000.0],\n",
       "       ['spain', 'B', 38.77777777777778, 52000.0],\n",
       "       ['france', 'A', 48.0, 79000.0],\n",
       "       ['germany', 'C', 50.0, 83000.0],\n",
       "       ['france', 'B', 37.0, 67000.0]], dtype=object)"
      ]
     },
     "execution_count": 15,
     "metadata": {},
     "output_type": "execute_result"
    }
   ],
   "source": [
    "x"
   ]
  },
  {
   "cell_type": "code",
   "execution_count": 16,
   "metadata": {},
   "outputs": [],
   "source": [
    "from sklearn.model_selection import train_test_split"
   ]
  },
  {
   "cell_type": "code",
   "execution_count": 17,
   "metadata": {},
   "outputs": [],
   "source": [
    "train_x,test_x,train_y,test_y=train_test_split(x,y,test_size=0.20,random_state=0)"
   ]
  },
  {
   "cell_type": "code",
   "execution_count": 18,
   "metadata": {},
   "outputs": [
    {
     "data": {
      "text/plain": [
       "array([['germany', 'C', 40.0, 63777.77777777778],\n",
       "       ['france', 'B', 37.0, 67000.0],\n",
       "       ['spain', 'B', 27.0, 48000.0],\n",
       "       ['spain', 'B', 38.77777777777778, 52000.0],\n",
       "       ['france', 'A', 48.0, 79000.0],\n",
       "       ['spain', 'A', 38.0, 61000.0],\n",
       "       ['france', 'A', 44.0, 72000.0],\n",
       "       ['france', 'C', 35.0, 58000.0]], dtype=object)"
      ]
     },
     "execution_count": 18,
     "metadata": {},
     "output_type": "execute_result"
    }
   ],
   "source": [
    "train_x"
   ]
  },
  {
   "cell_type": "code",
   "execution_count": 19,
   "metadata": {},
   "outputs": [
    {
     "data": {
      "text/plain": [
       "array([['germany', 'B', 30.0, 54000.0],\n",
       "       ['germany', 'C', 50.0, 83000.0]], dtype=object)"
      ]
     },
     "execution_count": 19,
     "metadata": {},
     "output_type": "execute_result"
    }
   ],
   "source": [
    "test_x"
   ]
  },
  {
   "cell_type": "code",
   "execution_count": 20,
   "metadata": {},
   "outputs": [
    {
     "data": {
      "text/plain": [
       "array(['yes', 'yes', 'yes', 'no', 'yes', 'no', 'no', 'yes'], dtype=object)"
      ]
     },
     "execution_count": 20,
     "metadata": {},
     "output_type": "execute_result"
    }
   ],
   "source": [
    "train_y"
   ]
  },
  {
   "cell_type": "code",
   "execution_count": 21,
   "metadata": {},
   "outputs": [
    {
     "data": {
      "text/plain": [
       "array(['no', 'no'], dtype=object)"
      ]
     },
     "execution_count": 21,
     "metadata": {},
     "output_type": "execute_result"
    }
   ],
   "source": [
    "test_y"
   ]
  },
  {
   "cell_type": "code",
   "execution_count": 22,
   "metadata": {},
   "outputs": [],
   "source": [
    "from sklearn.preprocessing import StandardScaler"
   ]
  },
  {
   "cell_type": "code",
   "execution_count": 23,
   "metadata": {},
   "outputs": [],
   "source": [
    "sc=StandardScaler()\n",
    "train_x[:,2:4]=sc.fit_transform(train_x[:,2:4])"
   ]
  },
  {
   "cell_type": "code",
   "execution_count": 24,
   "metadata": {},
   "outputs": [],
   "source": [
    "test_x[:,2:4]=sc.fit_transform(test_x[:,2:4])"
   ]
  },
  {
   "cell_type": "code",
   "execution_count": 25,
   "metadata": {},
   "outputs": [
    {
     "data": {
      "text/plain": [
       "array([['germany', 'B', -1.0, -1.0],\n",
       "       ['germany', 'C', 1.0, 1.0]], dtype=object)"
      ]
     },
     "execution_count": 25,
     "metadata": {},
     "output_type": "execute_result"
    }
   ],
   "source": [
    "test_x"
   ]
  },
  {
   "cell_type": "code",
   "execution_count": 26,
   "metadata": {},
   "outputs": [
    {
     "data": {
      "text/plain": [
       "array([['germany', 'C', 0.2630675731713538, 0.1238147854838185],\n",
       "       ['france', 'B', -0.25350147960148617, 0.4617563176278856],\n",
       "       ['spain', 'B', -1.9753983221776195, -1.5309334063940294],\n",
       "       ['spain', 'B', 0.05261351463427101, -1.1114197802841526],\n",
       "       ['france', 'A', 1.6405850472322605, 1.7202971959575162],\n",
       "       ['spain', 'A', -0.08131179534387283, -0.16751412153692966],\n",
       "       ['france', 'A', 0.9518263102018072, 0.9861483502652316],\n",
       "       ['france', 'C', -0.5978808481167128, -0.48214934111933727]],\n",
       "      dtype=object)"
      ]
     },
     "execution_count": 26,
     "metadata": {},
     "output_type": "execute_result"
    }
   ],
   "source": [
    "train_x"
   ]
  },
  {
   "cell_type": "code",
   "execution_count": 27,
   "metadata": {},
   "outputs": [],
   "source": [
    "social=pd.read_csv(\"Social.csv\")"
   ]
  },
  {
   "cell_type": "code",
   "execution_count": 28,
   "metadata": {},
   "outputs": [],
   "source": [
    "x=social.iloc[:,:-1].values"
   ]
  },
  {
   "cell_type": "code",
   "execution_count": 29,
   "metadata": {},
   "outputs": [],
   "source": [
    "y=social.iloc[:,-1].values"
   ]
  },
  {
   "cell_type": "code",
   "execution_count": 30,
   "metadata": {},
   "outputs": [
    {
     "data": {
      "text/plain": [
       "array([[15624510,        0,       19,    19000],\n",
       "       [15810944,        0,       35,    20000],\n",
       "       [15668575,        1,       26,    43000],\n",
       "       ...,\n",
       "       [15654296,        1,       50,    20000],\n",
       "       [15755018,        0,       36,    33000],\n",
       "       [15594041,        1,       49,    36000]], dtype=int64)"
      ]
     },
     "execution_count": 30,
     "metadata": {},
     "output_type": "execute_result"
    }
   ],
   "source": [
    "x"
   ]
  },
  {
   "cell_type": "code",
   "execution_count": 31,
   "metadata": {},
   "outputs": [
    {
     "data": {
      "text/plain": [
       "array([0, 0, 0, 0, 0, 0, 0, 1, 0, 0, 0, 0, 0, 0, 0, 0, 1, 1, 1, 1, 1, 1,\n",
       "       1, 1, 1, 1, 1, 1, 0, 0, 0, 1, 0, 0, 0, 0, 0, 0, 0, 0, 0, 0, 0, 0,\n",
       "       0, 0, 0, 0, 1, 0, 0, 0, 0, 0, 0, 0, 0, 0, 0, 0, 0, 0, 0, 1, 0, 0,\n",
       "       0, 0, 0, 0, 0, 0, 0, 0, 0, 1, 0, 0, 0, 0, 0, 0, 0, 0, 0, 1, 0, 0,\n",
       "       0, 0, 0, 0, 0, 0, 0, 0, 0, 1, 0, 0, 0, 0, 0, 1, 0, 0, 0, 0, 0, 0,\n",
       "       0, 0, 0, 0, 0, 0, 0, 0, 0, 0, 0, 0, 0, 0, 0, 0, 0, 0, 0, 0, 0, 0,\n",
       "       0, 0, 0, 0, 0, 1, 0, 0, 0, 0, 0, 0, 0, 0, 1, 0, 0, 0, 0, 0, 0, 0,\n",
       "       0, 0, 0, 0, 0, 1, 1, 0, 0, 0, 0, 0, 0, 0, 1, 0, 0, 0, 0, 0, 0, 0,\n",
       "       0, 0, 0, 0, 0, 0, 1, 0, 0, 0, 0, 0, 0, 0, 0, 0, 0, 0, 0, 0, 0, 0,\n",
       "       0, 0, 0, 0, 1, 0, 1, 0, 1, 0, 1, 0, 1, 1, 0, 0, 0, 1, 0, 0, 0, 1,\n",
       "       0, 1, 1, 1, 0, 0, 1, 1, 0, 1, 1, 0, 1, 1, 0, 1, 0, 0, 0, 1, 1, 0,\n",
       "       1, 1, 0, 1, 0, 1, 0, 1, 0, 0, 1, 1, 0, 1, 0, 0, 1, 1, 0, 1, 1, 0,\n",
       "       1, 1, 0, 0, 1, 0, 0, 1, 1, 1, 1, 1, 0, 1, 1, 1, 1, 0, 1, 1, 0, 1,\n",
       "       0, 1, 0, 1, 1, 1, 1, 0, 0, 0, 1, 1, 0, 1, 1, 1, 1, 1, 0, 0, 0, 1,\n",
       "       1, 0, 0, 1, 0, 1, 0, 1, 1, 0, 1, 0, 1, 1, 0, 1, 1, 0, 0, 0, 1, 1,\n",
       "       0, 1, 0, 0, 1, 0, 1, 0, 0, 1, 1, 0, 0, 1, 1, 0, 1, 1, 0, 0, 1, 0,\n",
       "       1, 0, 1, 1, 1, 0, 1, 0, 1, 1, 1, 0, 1, 1, 1, 1, 0, 1, 1, 1, 0, 1,\n",
       "       0, 1, 0, 0, 1, 1, 0, 1, 1, 1, 1, 1, 1, 0, 1, 1, 1, 1, 1, 1, 0, 1,\n",
       "       1, 1, 0, 1], dtype=int64)"
      ]
     },
     "execution_count": 31,
     "metadata": {},
     "output_type": "execute_result"
    }
   ],
   "source": [
    "y"
   ]
  },
  {
   "cell_type": "code",
   "execution_count": 32,
   "metadata": {},
   "outputs": [],
   "source": [
    "socialx_train,socialx_test,socialy_train,socialy_test=train_test_split(x,y,test_size=0.20,random_state=0)"
   ]
  },
  {
   "cell_type": "code",
   "execution_count": 33,
   "metadata": {},
   "outputs": [
    {
     "data": {
      "text/plain": [
       "array([[15664907,        0,       58,   144000],\n",
       "       [15605000,        1,       59,    83000],\n",
       "       [15649136,        1,       24,    55000],\n",
       "       ...,\n",
       "       [15591433,        0,       36,    52000],\n",
       "       [15776348,        1,       27,    54000],\n",
       "       [15794661,        1,       26,   118000]], dtype=int64)"
      ]
     },
     "execution_count": 33,
     "metadata": {},
     "output_type": "execute_result"
    }
   ],
   "source": [
    "socialx_train"
   ]
  },
  {
   "cell_type": "code",
   "execution_count": 34,
   "metadata": {},
   "outputs": [
    {
     "data": {
      "text/plain": [
       "array([[15725660,        0,       30,    87000],\n",
       "       [15652400,        1,       38,    50000],\n",
       "       [15776844,        0,       35,    75000],\n",
       "       [15738448,        1,       30,    79000],\n",
       "       [15638003,        1,       35,    50000],\n",
       "       [15814004,        0,       27,    20000],\n",
       "       [15610140,        1,       31,    15000],\n",
       "       [15680587,        0,       36,   144000],\n",
       "       [15666141,        1,       18,    68000],\n",
       "       [15622478,        0,       47,    43000],\n",
       "       [15689425,        0,       30,    49000],\n",
       "       [15800061,        1,       28,    55000],\n",
       "       [15773447,        0,       37,    55000],\n",
       "       [15579212,        0,       39,    77000],\n",
       "       [15746139,        0,       20,    86000],\n",
       "       [15789109,        1,       32,   117000],\n",
       "       [15760570,        0,       37,    77000],\n",
       "       [15807909,        0,       19,    85000],\n",
       "       [15654230,        1,       55,   130000],\n",
       "       [15708228,        0,       35,    22000],\n",
       "       [15609653,        1,       35,    47000],\n",
       "       [15746203,        1,       47,   144000],\n",
       "       [15678168,        1,       41,    51000],\n",
       "       [15729908,        0,       47,   105000],\n",
       "       [15614420,        1,       23,    28000],\n",
       "       [15753861,        1,       49,   141000],\n",
       "       [15667265,        1,       28,    87000],\n",
       "       [15697686,        0,       29,    80000],\n",
       "       [15631070,        1,       37,    62000],\n",
       "       [15584545,        1,       32,    86000],\n",
       "       [15587013,        0,       21,    88000],\n",
       "       [15637593,        0,       37,    79000],\n",
       "       [15814553,        0,       57,    60000],\n",
       "       [15622171,        0,       37,    53000],\n",
       "       [15718071,        0,       24,    58000],\n",
       "       [15746737,        0,       18,    52000],\n",
       "       [15684801,        0,       22,    81000],\n",
       "       [15581654,        1,       34,    43000],\n",
       "       [15673367,        1,       31,    34000],\n",
       "       [15594041,        1,       49,    36000],\n",
       "       [15766289,        0,       27,    88000],\n",
       "       [15674331,        0,       41,    52000],\n",
       "       [15598044,        1,       27,    84000],\n",
       "       [15810944,        0,       35,    20000],\n",
       "       [15705298,        1,       43,   112000],\n",
       "       [15654901,        1,       27,    58000],\n",
       "       [15793890,        1,       37,    80000],\n",
       "       [15750056,        1,       52,    90000],\n",
       "       [15762605,        0,       26,    30000],\n",
       "       [15614187,        0,       49,    86000],\n",
       "       [15775590,        1,       57,   122000],\n",
       "       [15622833,        1,       34,    25000],\n",
       "       [15566689,        1,       35,    57000],\n",
       "       [15570932,        0,       34,   115000],\n",
       "       [15609669,        1,       59,    88000],\n",
       "       [15742204,        0,       45,    32000],\n",
       "       [15744919,        1,       29,    83000],\n",
       "       [15570769,        1,       26,    80000],\n",
       "       [15792818,        0,       49,    28000],\n",
       "       [15639277,        0,       23,    20000],\n",
       "       [15592877,        0,       32,    18000],\n",
       "       [15791373,        0,       60,    42000],\n",
       "       [15804002,        0,       19,    76000],\n",
       "       [15699619,        0,       36,    99000],\n",
       "       [15662067,        1,       19,    26000],\n",
       "       [15774744,        0,       60,    83000],\n",
       "       [15746422,        1,       24,    89000],\n",
       "       [15728773,        0,       27,    58000],\n",
       "       [15605327,        0,       40,    47000],\n",
       "       [15717893,        1,       42,    70000],\n",
       "       [15694829,        1,       32,   150000],\n",
       "       [15811177,        1,       35,    77000],\n",
       "       [15577178,        1,       22,    63000],\n",
       "       [15649487,        0,       45,    22000],\n",
       "       [15789863,        0,       27,    89000],\n",
       "       [15628972,        0,       18,    82000],\n",
       "       [15768293,        1,       42,    79000],\n",
       "       [15598070,        1,       40,    60000],\n",
       "       [15778830,        1,       53,    34000],\n",
       "       [15639576,        1,       47,   107000]], dtype=int64)"
      ]
     },
     "execution_count": 34,
     "metadata": {},
     "output_type": "execute_result"
    }
   ],
   "source": [
    "socialx_test"
   ]
  },
  {
   "cell_type": "code",
   "execution_count": 35,
   "metadata": {},
   "outputs": [],
   "source": [
    "socialx_train[:,2:4]=sc.fit_transform(socialx_train[:,2:4])"
   ]
  },
  {
   "cell_type": "code",
   "execution_count": 36,
   "metadata": {},
   "outputs": [],
   "source": [
    "socialx_test[:,2:4]=sc.fit_transform(socialx_test[:,2:4])"
   ]
  },
  {
   "cell_type": "code",
   "execution_count": 38,
   "metadata": {},
   "outputs": [
    {
     "data": {
      "text/plain": [
       "array([[15664907,        0,        1,        2],\n",
       "       [15605000,        1,        2,        0],\n",
       "       [15649136,        1,       -1,        0],\n",
       "       ...,\n",
       "       [15591433,        0,        0,        0],\n",
       "       [15776348,        1,       -1,        0],\n",
       "       [15794661,        1,       -1,        1]], dtype=int64)"
      ]
     },
     "execution_count": 38,
     "metadata": {},
     "output_type": "execute_result"
    }
   ],
   "source": [
    "socialx_train"
   ]
  },
  {
   "cell_type": "code",
   "execution_count": 39,
   "metadata": {},
   "outputs": [
    {
     "data": {
      "text/plain": [
       "array([[15725660,        0,        0,        0],\n",
       "       [15652400,        1,        0,        0],\n",
       "       [15776844,        0,        0,        0],\n",
       "       [15738448,        1,        0,        0],\n",
       "       [15638003,        1,        0,        0],\n",
       "       [15814004,        0,        0,       -1],\n",
       "       [15610140,        1,        0,       -1],\n",
       "       [15680587,        0,        0,        2],\n",
       "       [15666141,        1,       -1,        0],\n",
       "       [15622478,        0,        1,        0],\n",
       "       [15689425,        0,        0,        0],\n",
       "       [15800061,        1,        0,        0],\n",
       "       [15773447,        0,        0,        0],\n",
       "       [15579212,        0,        0,        0],\n",
       "       [15746139,        0,       -1,        0],\n",
       "       [15789109,        1,        0,        1],\n",
       "       [15760570,        0,        0,        0],\n",
       "       [15807909,        0,       -1,        0],\n",
       "       [15654230,        1,        1,        1],\n",
       "       [15708228,        0,        0,       -1],\n",
       "       [15609653,        1,        0,        0],\n",
       "       [15746203,        1,        1,        2],\n",
       "       [15678168,        1,        0,        0],\n",
       "       [15729908,        0,        1,        1],\n",
       "       [15614420,        1,       -1,       -1],\n",
       "       [15753861,        1,        1,        2],\n",
       "       [15667265,        1,        0,        0],\n",
       "       [15697686,        0,        0,        0],\n",
       "       [15631070,        1,        0,        0],\n",
       "       [15584545,        1,        0,        0],\n",
       "       [15587013,        0,       -1,        0],\n",
       "       [15637593,        0,        0,        0],\n",
       "       [15814553,        0,        1,        0],\n",
       "       [15622171,        0,        0,        0],\n",
       "       [15718071,        0,       -1,        0],\n",
       "       [15746737,        0,       -1,        0],\n",
       "       [15684801,        0,       -1,        0],\n",
       "       [15581654,        1,        0,        0],\n",
       "       [15673367,        1,        0,       -1],\n",
       "       [15594041,        1,        1,       -1],\n",
       "       [15766289,        0,        0,        0],\n",
       "       [15674331,        0,        0,        0],\n",
       "       [15598044,        1,        0,        0],\n",
       "       [15810944,        0,        0,       -1],\n",
       "       [15705298,        1,        0,        1],\n",
       "       [15654901,        1,        0,        0],\n",
       "       [15793890,        1,        0,        0],\n",
       "       [15750056,        1,        1,        0],\n",
       "       [15762605,        0,        0,       -1],\n",
       "       [15614187,        0,        1,        0],\n",
       "       [15775590,        1,        1,        1],\n",
       "       [15622833,        1,        0,       -1],\n",
       "       [15566689,        1,        0,        0],\n",
       "       [15570932,        0,        0,        1],\n",
       "       [15609669,        1,        2,        0],\n",
       "       [15742204,        0,        0,       -1],\n",
       "       [15744919,        1,        0,        0],\n",
       "       [15570769,        1,        0,        0],\n",
       "       [15792818,        0,        1,       -1],\n",
       "       [15639277,        0,       -1,       -1],\n",
       "       [15592877,        0,        0,       -1],\n",
       "       [15791373,        0,        2,        0],\n",
       "       [15804002,        0,       -1,        0],\n",
       "       [15699619,        0,        0,        0],\n",
       "       [15662067,        1,       -1,       -1],\n",
       "       [15774744,        0,        2,        0],\n",
       "       [15746422,        1,       -1,        0],\n",
       "       [15728773,        0,        0,        0],\n",
       "       [15605327,        0,        0,        0],\n",
       "       [15717893,        1,        0,        0],\n",
       "       [15694829,        1,        0,        2],\n",
       "       [15811177,        1,        0,        0],\n",
       "       [15577178,        1,       -1,        0],\n",
       "       [15649487,        0,        0,       -1],\n",
       "       [15789863,        0,        0,        0],\n",
       "       [15628972,        0,       -1,        0],\n",
       "       [15768293,        1,        0,        0],\n",
       "       [15598070,        1,        0,        0],\n",
       "       [15778830,        1,        1,       -1],\n",
       "       [15639576,        1,        1,        1]], dtype=int64)"
      ]
     },
     "execution_count": 39,
     "metadata": {},
     "output_type": "execute_result"
    }
   ],
   "source": [
    "socialx_test"
   ]
  },
  {
   "cell_type": "code",
   "execution_count": 41,
   "metadata": {},
   "outputs": [],
   "source": [
    "from sklearn.tree import DecisionTreeClassifier"
   ]
  },
  {
   "cell_type": "code",
   "execution_count": 43,
   "metadata": {},
   "outputs": [],
   "source": [
    "classifier=DecisionTreeClassifier(criterion='entropy',random_state=0)"
   ]
  },
  {
   "cell_type": "code",
   "execution_count": 44,
   "metadata": {},
   "outputs": [
    {
     "data": {
      "text/plain": [
       "DecisionTreeClassifier(class_weight=None, criterion='entropy', max_depth=None,\n",
       "                       max_features=None, max_leaf_nodes=None,\n",
       "                       min_impurity_decrease=0.0, min_impurity_split=None,\n",
       "                       min_samples_leaf=1, min_samples_split=2,\n",
       "                       min_weight_fraction_leaf=0.0, presort=False,\n",
       "                       random_state=0, splitter='best')"
      ]
     },
     "execution_count": 44,
     "metadata": {},
     "output_type": "execute_result"
    }
   ],
   "source": [
    "classifier.fit(socialx_train,socialy_train)"
   ]
  },
  {
   "cell_type": "code",
   "execution_count": 48,
   "metadata": {},
   "outputs": [
    {
     "data": {
      "text/plain": [
       "array([0, 0, 0, 1, 0, 1, 1, 0, 0, 1, 0, 0, 0, 0, 0, 0, 0, 0, 1, 1, 0, 1,\n",
       "       1, 1, 0, 1, 0, 0, 0, 0, 0, 0, 1, 1, 0, 0, 0, 0, 0, 1, 0, 0, 0, 1,\n",
       "       1, 0, 0, 1, 0, 1, 1, 1, 0, 1, 1, 1, 0, 0, 1, 0, 1, 1, 0, 0, 0, 1,\n",
       "       0, 0, 0, 0, 1, 0, 0, 1, 0, 0, 1, 0, 1, 0], dtype=int64)"
      ]
     },
     "execution_count": 48,
     "metadata": {},
     "output_type": "execute_result"
    }
   ],
   "source": [
    "pred=classifier.predict(socialx_test)\n",
    "pred"
   ]
  },
  {
   "cell_type": "code",
   "execution_count": 46,
   "metadata": {},
   "outputs": [],
   "source": [
    "from sklearn.metrics import confusion_matrix\n",
    "cm=confusion_matrix(socialy_test,pred)"
   ]
  },
  {
   "cell_type": "code",
   "execution_count": 47,
   "metadata": {},
   "outputs": [
    {
     "data": {
      "text/plain": [
       "array([[46, 12],\n",
       "       [ 4, 18]], dtype=int64)"
      ]
     },
     "execution_count": 47,
     "metadata": {},
     "output_type": "execute_result"
    }
   ],
   "source": [
    "cm"
   ]
  },
  {
   "cell_type": "code",
   "execution_count": null,
   "metadata": {},
   "outputs": [],
   "source": []
  }
 ],
 "metadata": {
  "kernelspec": {
   "display_name": "Python 3",
   "language": "python",
   "name": "python3"
  },
  "language_info": {
   "codemirror_mode": {
    "name": "ipython",
    "version": 3
   },
   "file_extension": ".py",
   "mimetype": "text/x-python",
   "name": "python",
   "nbconvert_exporter": "python",
   "pygments_lexer": "ipython3",
   "version": "3.7.4"
  }
 },
 "nbformat": 4,
 "nbformat_minor": 2
}
